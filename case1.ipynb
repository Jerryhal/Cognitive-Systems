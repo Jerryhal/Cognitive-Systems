{
 "cells": [
  {
   "cell_type": "markdown",
   "metadata": {},
   "source": [
    "<h2>Case 1: Heart disease classification</h2>\n",
    "\n",
    "<h4>Jerry Hällfors\n",
    "    <br>\n",
    "03.02.2019\n",
    "    <br>\n",
    "Helsinki Metropolia University of Applied Sciences</h4>\n",
    "\n",
    "<h3>Objective</h3>\n",
    "\n",
    "The objective of this document is to create and train a dense neural network to predict and classify the presence of heart disease. \n",
    "The goal of this assigment is to get familiar with using neural network frameworks."
   ]
  },
  {
   "cell_type": "markdown",
   "metadata": {},
   "source": [
    "<h3>Libraries</h3>\n",
    "\n",
    "The Libraries used in this assigment are as follow:\n",
    "\n",
    "Keras: Neural network\n",
    "\n",
    "Pandas: Data handling\n",
    "\n",
    "Sklearn: Data processing\n",
    "\n",
    "Matplotlib: Data plotting"
   ]
  },
  {
   "cell_type": "code",
   "execution_count": 91,
   "metadata": {},
   "outputs": [],
   "source": [
    "from random import shuffle\n",
    "import time\n",
    "import warnings\n",
    "import pandas as pd\n",
    "import numpy as np\n",
    "\n",
    "import matplotlib.pyplot as plt\n",
    "\n",
    "from sklearn.utils import shuffle\n",
    "from sklearn.preprocessing import normalize, StandardScaler\n",
    "from sklearn.metrics import confusion_matrix, precision_recall_fscore_support\n",
    "\n",
    "from keras.utils import to_categorical, plot_model\n",
    "from keras import models, layers\n",
    "from keras.layers import Dropout"
   ]
  },
  {
   "cell_type": "markdown",
   "metadata": {},
   "source": [
    "<h3>Data</h3>\n",
    "\n",
    "Data used in this assigment is a dataset of patients with varying degree of heart health, provided by Cleveland Clinic Foundation"
   ]
  },
  {
   "cell_type": "code",
   "execution_count": 92,
   "metadata": {},
   "outputs": [],
   "source": [
    "# Import data\n",
    "url = r'http://archive.ics.uci.edu/ml/machine-learning-databases/heart-disease/processed.cleveland.data'\n",
    "dataframe = pd.read_csv(url, \n",
    "                        sep = ',', \n",
    "                        header = None, \n",
    "                        index_col = None,\n",
    "                        na_values = '?')"
   ]
  },
  {
   "cell_type": "markdown",
   "metadata": {},
   "source": [
    "The Dataset contains 303 instances with 14 attributes:\n",
    "\n",
    "1 age: age in years       \n",
    "2 sex: sex (1 = male; 0 = female)       \n",
    "3 cp: chest pain type\n",
    "        -- Value 1: typical angina\n",
    "        -- Value 2: atypical angina\n",
    "        -- Value 3: non-anginal pain\n",
    "        -- Value 4: asymptomatic        \n",
    "4 trestbpd: resting blood pressure  \n",
    "5 chol: serum cholestoral in mg/dl      \n",
    "6 fbs: (fasting blood sugar > 120 mg/dl)  (1 = true; 0 = false)       \n",
    "7 restecg: resting electrocardiographic results\n",
    "        -- Value 0: normal\n",
    "        -- Value 1: having ST-T wave abnormality (T wave inversions and/or ST \n",
    "                    elevation or depression of > 0.05 mV)\n",
    "        -- Value 2: showing probable or definite left ventricular hypertrophy\n",
    "                    by Estes' criteria  \n",
    "8 thalach: maximum heart rate achieved \n",
    "9 exang: exercise induced angina (1 = yes; 0 = no)     \n",
    "10 oldpeak = ST depression induced by exercise relative to rest   \n",
    "11 slope: the slope of the peak exercise ST segment\n",
    "        -- Value 1: upsloping\n",
    "        -- Value 2: flat\n",
    "        -- Value 3: downsloping     \n",
    "12 ca: number of major vessels (0-3) colored by flourosopy        \n",
    "13 thal: 3 = normal; 6 = fixed defect; 7 = reversable defect      \n",
    "14 num: diagnosis of heart disease (angiographic disease status)\n",
    "        -- Value 0: < 50% diameter narrowing\n",
    "        -- Value 1: > 50% diameter narrowing\n",
    "        (in any major vessel: attributes 59 through 68 are vessels)"
   ]
  },
  {
   "cell_type": "code",
   "execution_count": 93,
   "metadata": {},
   "outputs": [],
   "source": [
    "# Add column names\n",
    "name_list = ['age', 'sex', 'cp','trestbps', 'chol', 'fbs','restecg',\n",
    "             'thalac','exang','oldpeak','slope','ca','thal','num']\n",
    "dataframe.columns = name_list"
   ]
  },
  {
   "cell_type": "markdown",
   "metadata": {},
   "source": [
    "<h3>Data processing</h3>\n",
    "\n",
    "The goal of the assigment is focused on categorizing the patients as either healthy or sick and as such all varying degrees of sickness should be categorized as just sick. This is helpful in building a more accurate neural network."
   ]
  },
  {
   "cell_type": "code",
   "execution_count": 94,
   "metadata": {},
   "outputs": [],
   "source": [
    "dataframe[\"num\"] = dataframe[\"num\"].mask(dataframe[\"num\"] != 0, 1)"
   ]
  },
  {
   "cell_type": "markdown",
   "metadata": {},
   "source": [
    "Fill missing values with mean of the collumn"
   ]
  },
  {
   "cell_type": "code",
   "execution_count": 95,
   "metadata": {},
   "outputs": [],
   "source": [
    "dataframe = dataframe.fillna(dataframe.median())"
   ]
  },
  {
   "cell_type": "markdown",
   "metadata": {},
   "source": [
    "Describe data"
   ]
  },
  {
   "cell_type": "code",
   "execution_count": 96,
   "metadata": {},
   "outputs": [
    {
     "name": "stdout",
     "output_type": "stream",
     "text": [
      "              age         sex          cp    trestbps        chol         fbs  \\\n",
      "count  303.000000  303.000000  303.000000  303.000000  303.000000  303.000000   \n",
      "mean    54.438944    0.679868    3.158416  131.689769  246.693069    0.148515   \n",
      "std      9.038662    0.467299    0.960126   17.599748   51.776918    0.356198   \n",
      "min     29.000000    0.000000    1.000000   94.000000  126.000000    0.000000   \n",
      "25%     48.000000    0.000000    3.000000  120.000000  211.000000    0.000000   \n",
      "50%     56.000000    1.000000    3.000000  130.000000  241.000000    0.000000   \n",
      "75%     61.000000    1.000000    4.000000  140.000000  275.000000    0.000000   \n",
      "max     77.000000    1.000000    4.000000  200.000000  564.000000    1.000000   \n",
      "\n",
      "          restecg      thalac       exang     oldpeak       slope          ca  \\\n",
      "count  303.000000  303.000000  303.000000  303.000000  303.000000  303.000000   \n",
      "mean     0.990099  149.607261    0.326733    1.039604    1.600660    0.663366   \n",
      "std      0.994971   22.875003    0.469794    1.161075    0.616226    0.934375   \n",
      "min      0.000000   71.000000    0.000000    0.000000    1.000000    0.000000   \n",
      "25%      0.000000  133.500000    0.000000    0.000000    1.000000    0.000000   \n",
      "50%      1.000000  153.000000    0.000000    0.800000    2.000000    0.000000   \n",
      "75%      2.000000  166.000000    1.000000    1.600000    2.000000    1.000000   \n",
      "max      2.000000  202.000000    1.000000    6.200000    3.000000    3.000000   \n",
      "\n",
      "             thal         num  \n",
      "count  303.000000  303.000000  \n",
      "mean     4.722772    0.458746  \n",
      "std      1.938383    0.499120  \n",
      "min      3.000000    0.000000  \n",
      "25%      3.000000    0.000000  \n",
      "50%      3.000000    0.000000  \n",
      "75%      7.000000    1.000000  \n",
      "max      7.000000    1.000000  \n"
     ]
    }
   ],
   "source": [
    "print(dataframe.describe())"
   ]
  },
  {
   "cell_type": "markdown",
   "metadata": {},
   "source": [
    "Shuffle the instances in the dataset to rid of any possible sorting which would confuse the neural network"
   ]
  },
  {
   "cell_type": "code",
   "execution_count": 97,
   "metadata": {},
   "outputs": [
    {
     "name": "stdout",
     "output_type": "stream",
     "text": [
      "      age  sex   cp  trestbps   chol  fbs  restecg  thalac  exang  oldpeak  \\\n",
      "164  48.0  1.0  3.0     124.0  255.0  1.0      0.0   175.0    0.0      0.0   \n",
      "99   48.0  1.0  4.0     122.0  222.0  0.0      2.0   186.0    0.0      0.0   \n",
      "211  38.0  1.0  1.0     120.0  231.0  0.0      0.0   182.0    1.0      3.8   \n",
      "75   65.0  0.0  3.0     160.0  360.0  0.0      2.0   151.0    0.0      0.8   \n",
      "103  71.0  0.0  3.0     110.0  265.0  1.0      2.0   130.0    0.0      0.0   \n",
      "\n",
      "     slope   ca  thal  num  \n",
      "164    1.0  2.0   3.0    0  \n",
      "99     1.0  0.0   3.0    0  \n",
      "211    2.0  0.0   7.0    1  \n",
      "75     1.0  0.0   3.0    0  \n",
      "103    1.0  1.0   3.0    0  \n"
     ]
    }
   ],
   "source": [
    "dataframe = shuffle(dataframe)\n",
    "print(dataframe.tail())"
   ]
  },
  {
   "cell_type": "markdown",
   "metadata": {},
   "source": [
    "Normalize value ranges in the dataset"
   ]
  },
  {
   "cell_type": "code",
   "execution_count": 98,
   "metadata": {},
   "outputs": [
    {
     "name": "stdout",
     "output_type": "stream",
     "text": [
      "              age         sex          cp    trestbps        chol         fbs  \\\n",
      "count  303.000000  303.000000  303.000000  303.000000  303.000000  303.000000   \n",
      "mean     0.529978    0.679868    0.719472    0.355564    0.275555    0.148515   \n",
      "std      0.188305    0.467299    0.320042    0.166035    0.118212    0.356198   \n",
      "min      0.000000    0.000000    0.000000    0.000000    0.000000    0.000000   \n",
      "25%      0.395833    0.000000    0.666667    0.245283    0.194064    0.000000   \n",
      "50%      0.562500    1.000000    0.666667    0.339623    0.262557    0.000000   \n",
      "75%      0.666667    1.000000    1.000000    0.433962    0.340183    0.000000   \n",
      "max      1.000000    1.000000    1.000000    1.000000    1.000000    1.000000   \n",
      "\n",
      "          restecg      thalac       exang     oldpeak       slope          ca  \\\n",
      "count  303.000000  303.000000  303.000000  303.000000  303.000000  303.000000   \n",
      "mean     0.495050    0.600055    0.326733    0.167678    0.300330    0.221122   \n",
      "std      0.497486    0.174618    0.469794    0.187270    0.308113    0.311458   \n",
      "min      0.000000    0.000000    0.000000    0.000000    0.000000    0.000000   \n",
      "25%      0.000000    0.477099    0.000000    0.000000    0.000000    0.000000   \n",
      "50%      0.500000    0.625954    0.000000    0.129032    0.500000    0.000000   \n",
      "75%      1.000000    0.725191    1.000000    0.258065    0.500000    0.333333   \n",
      "max      1.000000    1.000000    1.000000    1.000000    1.000000    1.000000   \n",
      "\n",
      "             thal  \n",
      "count  303.000000  \n",
      "mean     0.430693  \n",
      "std      0.484596  \n",
      "min      0.000000  \n",
      "25%      0.000000  \n",
      "50%      0.000000  \n",
      "75%      1.000000  \n",
      "max      1.000000  \n"
     ]
    }
   ],
   "source": [
    "data_list = ['age', 'sex', 'cp','trestbps', 'chol', 'fbs','restecg',\n",
    "             'thalac','exang','oldpeak','slope','ca','thal']\n",
    "data = dataframe[data_list]\n",
    "\n",
    "data_min = data.min()\n",
    "data_max = data.max()\n",
    "data_norm = (data - data_min)/(data_max - data_min)\n",
    "\n",
    "print(data_norm.describe())"
   ]
  },
  {
   "cell_type": "markdown",
   "metadata": {},
   "source": [
    "Visualize distribution sick and healthy instances in the dataset "
   ]
  },
  {
   "cell_type": "code",
   "execution_count": 99,
   "metadata": {},
   "outputs": [
    {
     "data": {
      "image/png": "[encoded data removed]",
      "text/plain": [
       "<Figure size 432x288 with 1 Axes>"
      ]
     },
     "metadata": {
      "needs_background": "light"
     },
     "output_type": "display_data"
    }
   ],
   "source": [
    "labels = dataframe['num']\n",
    "\n",
    "plt.hist(labels)\n",
    "plt.xlabel('Severity of the disease')\n",
    "plt.ylabel('Frequency')\n",
    "plt.title('Histogram of labels')\n",
    "plt.show()"
   ]
  },
  {
   "cell_type": "markdown",
   "metadata": {},
   "source": [
    "<h3>Models and Training</h3>\n",
    "\n",
    "The data set is divided 60/30 in two parts. Training set which consists of 200 instances and validation set which consists of 103 instances. The training set is used to train the network and the validation set is used to validate the results of the network.  "
   ]
  },
  {
   "cell_type": "code",
   "execution_count": 100,
   "metadata": {},
   "outputs": [],
   "source": [
    "one_hot_labels = to_categorical(labels)\n",
    "one_hot_labels[:2]\n",
    "\n",
    "train_data = data_norm[:200]\n",
    "val_data = data_norm[200:]\n",
    "\n",
    "train_labels = one_hot_labels[:200]\n",
    "val_labels = one_hot_labels[200:]"
   ]
  },
  {
   "cell_type": "markdown",
   "metadata": {},
   "source": [
    "The most consistent results of 85% accuracy were gained from a network with 6 hidden layers with a dropout rate of 30% on the first layer. \n",
    "\n",
    "The most important factors in reaching a good model was dropout in the first layer, reverse funnel-like shape of the network and low starting neuron count. \n",
    "\n",
    "Relu was picked as the activation function for efficiency.\n",
    "\n",
    "The last layer has 2 neurons representing sick and healthy classifications."
   ]
  },
  {
   "cell_type": "code",
   "execution_count": 101,
   "metadata": {},
   "outputs": [
    {
     "name": "stdout",
     "output_type": "stream",
     "text": [
      "_________________________________________________________________\n",
      "Layer (type)                 Output Shape              Param #   \n",
      "=================================================================\n",
      "dense_338 (Dense)            (None, 5)                 70        \n",
      "_________________________________________________________________\n",
      "dropout_44 (Dropout)         (None, 5)                 0         \n",
      "_________________________________________________________________\n",
      "dense_339 (Dense)            (None, 10)                60        \n",
      "_________________________________________________________________\n",
      "dense_340 (Dense)            (None, 20)                220       \n",
      "_________________________________________________________________\n",
      "dense_341 (Dense)            (None, 30)                630       \n",
      "_________________________________________________________________\n",
      "dense_342 (Dense)            (None, 40)                1240      \n",
      "_________________________________________________________________\n",
      "dense_343 (Dense)            (None, 50)                2050      \n",
      "_________________________________________________________________\n",
      "dense_344 (Dense)            (None, 60)                3060      \n",
      "_________________________________________________________________\n",
      "dense_345 (Dense)            (None, 2)                 122       \n",
      "=================================================================\n",
      "Total params: 7,452\n",
      "Trainable params: 7,452\n",
      "Non-trainable params: 0\n",
      "_________________________________________________________________\n"
     ]
    }
   ],
   "source": [
    "model = models.Sequential()\n",
    "model.add(layers.Dense(5, activation='relu', input_shape=(13,)))\n",
    "model.add(Dropout(0.3))\n",
    "model.add(layers.Dense(10))\n",
    "model.add(layers.Dense(20))\n",
    "model.add(layers.Dense(30))\n",
    "model.add(layers.Dense(40))\n",
    "model.add(layers.Dense(50))\n",
    "model.add(layers.Dense(60))\n",
    "\n",
    "model.add(layers.Dense(2, activation='softmax'))\n",
    "model.summary()"
   ]
  },
  {
   "cell_type": "markdown",
   "metadata": {},
   "source": [
    "Categorical crossentropy was used as the loss function of this network due the nature of the problem.\n",
    "\n",
    "One of the newer and enhanced optimizer, adam, was chosen for this network.\n",
    "\n",
    "Overfitting was commonly observed after 100 epochs thus 70 or fewer epochs is recommended for this network.\n",
    "\n",
    "As batch size gets smaller, accuracy of the model gets better with the cost of increasing training time. Smaller batch size than 5 gets exponentially longer to train with only marginal increase in accuracy."
   ]
  },
  {
   "cell_type": "code",
   "execution_count": 102,
   "metadata": {},
   "outputs": [
    {
     "name": "stdout",
     "output_type": "stream",
     "text": [
      "Elapsed time: 10.84 seconds\n"
     ]
    }
   ],
   "source": [
    "model.compile(optimizer = 'adam',\n",
    "                loss = 'categorical_crossentropy',\n",
    "                metrics = ['accuracy'])\n",
    "\n",
    "t_start = time.time()\n",
    "history = model.fit(train_data, train_labels, \n",
    "                    epochs = 70, \n",
    "                    batch_size = 5, \n",
    "                    verbose = 0,\n",
    "                    validation_data = (val_data, val_labels))\n",
    "t_end = time.time()\n",
    "print('Elapsed time: {:.2f} seconds'.format(t_end - t_start))"
   ]
  },
  {
   "cell_type": "markdown",
   "metadata": {},
   "source": [
    "<h3>Results</h3>"
   ]
  },
  {
   "cell_type": "code",
   "execution_count": 103,
   "metadata": {
    "scrolled": false
   },
   "outputs": [
    {
     "name": "stdout",
     "output_type": "stream",
     "text": [
      "Best guess: 0.5413\n",
      "Total accuracy: 0.8614\n",
      "Confusion matrix:\n",
      "[[149  15]\n",
      " [ 27 112]]\n",
      "Support:\n",
      " [164 139]\n",
      "Precision: [ 0.847  0.882]\n",
      "Recall:    [ 0.909  0.806]\n",
      "F-score:   [ 0.876  0.842]\n"
     ]
    },
    {
     "data": {
      "image/png": "[encoded data removed]",
      "text/plain": [
       "<Figure size 432x288 with 1 Axes>"
      ]
     },
     "metadata": {
      "needs_background": "light"
     },
     "output_type": "display_data"
    },
    {
     "data": {
      "image/png": "[encoded data removed]",
      "text/plain": [
       "<Figure size 432x288 with 1 Axes>"
      ]
     },
     "metadata": {
      "needs_background": "light"
     },
     "output_type": "display_data"
    }
   ],
   "source": [
    "history_dict = history.history\n",
    "loss_values = history_dict['loss']\n",
    "val_loss_values = history_dict['val_loss']\n",
    "acc_values = history_dict['acc']\n",
    "val_acc_values = history_dict['val_acc']\n",
    "epochs = range(1, len(loss_values) + 1)\n",
    "\n",
    "val_predicts = model.predict(data_norm)\n",
    "y_pred = np.argmax(val_predicts, axis = 1)\n",
    "cm = confusion_matrix(labels, y_pred)\n",
    "\n",
    "print('Best guess: {:.4f}'.format(np.sum(labels == 0)/len(labels)))\n",
    "\n",
    "print('Total accuracy: {:.4f}'.format(np.trace(cm)/np.sum(cm)))\n",
    "print('Confusion matrix:')\n",
    "print(cm)\n",
    "\n",
    "with warnings.catch_warnings():\n",
    "    warnings.simplefilter(\"ignore\")\n",
    "    p, r, f, s = precision_recall_fscore_support(labels, y_pred)\n",
    "\n",
    "np.set_printoptions(formatter={'float': '{: 0.3f}'.format})\n",
    "print('Support:\\n', s)\n",
    "print('Precision:', p)\n",
    "print('Recall:   ', r)\n",
    "print('F-score:  ', f)\n",
    "\n",
    "\n",
    "plt.figure()\n",
    "plt.plot(epochs, loss_values, 'b', label='Training loss')\n",
    "plt.plot(epochs, val_loss_values, 'r', label='Validation loss')\n",
    "plt.xlabel('Epochs')\n",
    "plt.ylabel('Loss')\n",
    "plt.ylim([0, 2])\n",
    "plt.legend()\n",
    "plt.show()\n",
    "\n",
    "plt.figure()\n",
    "plt.plot(epochs, acc_values, 'b', label='Training acc')\n",
    "plt.plot(epochs, val_acc_values, 'r', label='Validation acc')\n",
    "plt.xlabel('Epochs')\n",
    "plt.ylabel('Accuracy')\n",
    "plt.ylim([0, 1])\n",
    "plt.legend()\n",
    "plt.show()"
   ]
  },
  {
   "cell_type": "markdown",
   "metadata": {},
   "source": [
    "An accuracy of 86 percent was achieved with minimal overfitting and a recall of 80 percent of all sick inviduals."
   ]
  },
  {
   "cell_type": "markdown",
   "metadata": {},
   "source": [
    "<h3>Conclusion</h3>\n",
    "\n",
    "While the model is definitely superior to just quessing patient health status, an effort should be made to achieve a better recall percent for sick inviduals on the next iteration.\n",
    "\n",
    "Interestingly, not a single model seemed to reach accuracy of more than 85%~ consistently without overfitting."
   ]
  }
 ],
 "metadata": {
  "kernelspec": {
   "display_name": "Python 3",
   "language": "python",
   "name": "python3"
  },
  "language_info": {
   "codemirror_mode": {
    "name": "ipython",
    "version": 3
   },
   "file_extension": ".py",
   "mimetype": "text/x-python",
   "name": "python",
   "nbconvert_exporter": "python",
   "pygments_lexer": "ipython3",
   "version": "3.6.8"
  }
 },
 "nbformat": 4,
 "nbformat_minor": 2
}
